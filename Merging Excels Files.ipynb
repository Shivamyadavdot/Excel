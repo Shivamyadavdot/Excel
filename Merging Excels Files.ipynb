{
 "cells": [
  {
   "cell_type": "code",
   "execution_count": 51,
   "id": "e06e4eb3",
   "metadata": {},
   "outputs": [
    {
     "name": "stdout",
     "output_type": "stream",
     "text": [
      "['C:\\\\Users\\\\91880\\\\OneDrive\\\\Desktop\\\\Python\\\\Jupyter\\\\Shivam\\\\merge.xlsx']\n"
     ]
    },
    {
     "name": "stderr",
     "output_type": "stream",
     "text": [
      "C:\\Users\\91880\\AppData\\Local\\Temp\\ipykernel_18092\\3316070742.py:12: FutureWarning: The frame.append method is deprecated and will be removed from pandas in a future version. Use pandas.concat instead.\n",
      "  df = df.append(df_temp, ignore_index=True)\n"
     ]
    }
   ],
   "source": [
    "import os\n",
    "import pandas as pd\n",
    "import glob\n",
    "# get data file names\n",
    "path = 'C:\\\\Users\\\\91880\\\\OneDrive\\\\Desktop\\\\Python\\\\Jupyter\\\\Shivam\\\\*.xlsx'\n",
    "files = glob.glob(path)\n",
    "print(files)\n",
    "# create empty dataframe\n",
    "df = pd.DataFrame()\n",
    "for file in files:\n",
    "    df_temp = pd.read_excel(file)\n",
    "    df = df.append(df_temp, ignore_index=True)\n",
    "    os.remove(file)\n",
    "\n",
    "# export to excel\n",
    "df.to_excel(\"merge.xlsx\", index=False)\n"
   ]
  },
  {
   "cell_type": "code",
   "execution_count": 52,
   "id": "d9e3b13e",
   "metadata": {},
   "outputs": [
    {
     "name": "stdout",
     "output_type": "stream",
     "text": [
      "['C:\\\\Users\\\\91880\\\\OneDrive\\\\Desktop\\\\Python\\\\Jupyter\\\\Shivam\\\\merge.xlsx']\n"
     ]
    }
   ],
   "source": [
    "import os\n",
    "import pandas as pd\n",
    "import glob\n",
    "\n",
    "# get data file names\n",
    "path = 'C:\\\\Users\\\\91880\\\\OneDrive\\\\Desktop\\\\Python\\\\Jupyter\\\\Shivam\\\\*.xlsx'\n",
    "files = glob.glob(path)\n",
    "print(files)\n",
    "\n",
    "# create empty list to hold dataframes\n",
    "df_list = []\n",
    "for file in files:\n",
    "    df_temp = pd.read_excel(file)\n",
    "    df_list.append(df_temp)\n",
    "    os.remove(file)\n",
    "\n",
    "# concatenate dataframes\n",
    "df = pd.concat(df_list, ignore_index=True)\n",
    "\n",
    "# export to excel\n",
    "df.to_excel(\"merge.xlsx\", index=False)\n"
   ]
  },
  {
   "cell_type": "code",
   "execution_count": null,
   "id": "273e31c3",
   "metadata": {},
   "outputs": [],
   "source": []
  },
  {
   "cell_type": "code",
   "execution_count": null,
   "id": "2f6cb1d8",
   "metadata": {},
   "outputs": [],
   "source": []
  }
 ],
 "metadata": {
  "kernelspec": {
   "display_name": "Python 3 (ipykernel)",
   "language": "python",
   "name": "python3"
  },
  "language_info": {
   "codemirror_mode": {
    "name": "ipython",
    "version": 3
   },
   "file_extension": ".py",
   "mimetype": "text/x-python",
   "name": "python",
   "nbconvert_exporter": "python",
   "pygments_lexer": "ipython3",
   "version": "3.10.4"
  }
 },
 "nbformat": 4,
 "nbformat_minor": 5
}
